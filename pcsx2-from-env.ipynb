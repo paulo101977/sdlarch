{
 "cells": [
  {
   "cell_type": "code",
   "execution_count": 1,
   "id": "f08e1aa3-fbe5-4dc1-b713-9e142d0c76ec",
   "metadata": {
    "scrolled": true
   },
   "outputs": [
    {
     "name": "stderr",
     "output_type": "stream",
     "text": [
      "D:\\Python311\\Lib\\site-packages\\pygame\\pkgdata.py:25: DeprecationWarning: pkg_resources is deprecated as an API. See https://setuptools.pypa.io/en/latest/pkg_resources.html\n",
      "  from pkg_resources import resource_stream, resource_exists\n"
     ]
    },
    {
     "ename": "FileNotFoundError",
     "evalue": "Core file not found: d:\\projects\\sdlarch\\sdlarch_rl\\./cores/ps2/pcsx2_libretro.so. Please ensure the path is correct.",
     "output_type": "error",
     "traceback": [
      "\u001b[1;31m---------------------------------------------------------------------------\u001b[0m",
      "\u001b[1;31mFileNotFoundError\u001b[0m                         Traceback (most recent call last)",
      "Cell \u001b[1;32mIn[1], line 12\u001b[0m\n\u001b[0;32m      9\u001b[0m \u001b[38;5;28;01mimport\u001b[39;00m \u001b[38;5;21;01mpygame\u001b[39;00m\n\u001b[0;32m     10\u001b[0m \u001b[38;5;28;01mfrom\u001b[39;00m \u001b[38;5;21;01mIPython\u001b[39;00m\u001b[38;5;21;01m.\u001b[39;00m\u001b[38;5;21;01mdisplay\u001b[39;00m \u001b[38;5;28;01mimport\u001b[39;00m Audio\n\u001b[1;32m---> 12\u001b[0m env \u001b[38;5;241m=\u001b[39m \u001b[43mmake\u001b[49m\u001b[43m(\u001b[49m\u001b[38;5;124;43m\"\u001b[39;49m\u001b[38;5;124;43mGranTurismo3-Ps2\u001b[39;49m\u001b[38;5;124;43m\"\u001b[39;49m\u001b[43m)\u001b[49m\n\u001b[0;32m     14\u001b[0m obs, info \u001b[38;5;241m=\u001b[39m env\u001b[38;5;241m.\u001b[39mreset()\n\u001b[0;32m     16\u001b[0m count \u001b[38;5;241m=\u001b[39m \u001b[38;5;241m0\u001b[39m\n",
      "File \u001b[1;32md:\\projects\\sdlarch\\sdlarch_rl\\__init__.py:23\u001b[0m, in \u001b[0;36mmake\u001b[1;34m(game, **kwargs)\u001b[0m\n\u001b[0;32m     19\u001b[0m \u001b[38;5;28;01mdef\u001b[39;00m \u001b[38;5;21mmake\u001b[39m(game,  \u001b[38;5;241m*\u001b[39m\u001b[38;5;241m*\u001b[39mkwargs):\n\u001b[0;32m     20\u001b[0m \u001b[38;5;250m    \u001b[39m\u001b[38;5;124;03m\"\"\"\u001b[39;00m\n\u001b[0;32m     21\u001b[0m \u001b[38;5;124;03m    Create a Gym environment for the specified game\u001b[39;00m\n\u001b[0;32m     22\u001b[0m \u001b[38;5;124;03m    \"\"\"\u001b[39;00m\n\u001b[1;32m---> 23\u001b[0m     \u001b[38;5;28;01mreturn\u001b[39;00m \u001b[43mSDLEnv\u001b[49m\u001b[43m(\u001b[49m\u001b[43mgame\u001b[49m\u001b[43m,\u001b[49m\u001b[43m \u001b[49m\u001b[38;5;241;43m*\u001b[39;49m\u001b[38;5;241;43m*\u001b[39;49m\u001b[43mkwargs\u001b[49m\u001b[43m)\u001b[49m\n",
      "File \u001b[1;32md:\\projects\\sdlarch\\sdlarch_rl\\sdlenv.py:47\u001b[0m, in \u001b[0;36mSDLEnv.__init__\u001b[1;34m(self, gamename, players, env_id, render_mode)\u001b[0m\n\u001b[0;32m     44\u001b[0m core \u001b[38;5;241m=\u001b[39m os\u001b[38;5;241m.\u001b[39mpath\u001b[38;5;241m.\u001b[39mjoin(\u001b[38;5;28mself\u001b[39m\u001b[38;5;241m.\u001b[39mdirname, \u001b[38;5;124m\"\u001b[39m\u001b[38;5;124m./cores/ps2/pcsx2_libretro.so\u001b[39m\u001b[38;5;124m\"\u001b[39m)\n\u001b[0;32m     46\u001b[0m \u001b[38;5;28;01mif\u001b[39;00m \u001b[38;5;129;01mnot\u001b[39;00m os\u001b[38;5;241m.\u001b[39mpath\u001b[38;5;241m.\u001b[39misfile(core):\n\u001b[1;32m---> 47\u001b[0m     \u001b[38;5;28;01mraise\u001b[39;00m \u001b[38;5;167;01mFileNotFoundError\u001b[39;00m(\u001b[38;5;124mf\u001b[39m\u001b[38;5;124m\"\u001b[39m\u001b[38;5;124mCore file not found: \u001b[39m\u001b[38;5;132;01m{\u001b[39;00mcore\u001b[38;5;132;01m}\u001b[39;00m\u001b[38;5;124m. Please ensure the path is correct.\u001b[39m\u001b[38;5;124m\"\u001b[39m)\n\u001b[0;32m     49\u001b[0m \u001b[38;5;28mself\u001b[39m\u001b[38;5;241m.\u001b[39mgamename \u001b[38;5;241m=\u001b[39m gamename\n\u001b[0;32m     51\u001b[0m \u001b[38;5;28;01mif\u001b[39;00m \u001b[38;5;129;01mnot\u001b[39;00m os\u001b[38;5;241m.\u001b[39mpath\u001b[38;5;241m.\u001b[39mexists(os\u001b[38;5;241m.\u001b[39mpath\u001b[38;5;241m.\u001b[39mjoin(\u001b[38;5;28mself\u001b[39m\u001b[38;5;241m.\u001b[39mdirname, \u001b[38;5;124mr\u001b[39m\u001b[38;5;124m\"\u001b[39m\u001b[38;5;124mroms\u001b[39m\u001b[38;5;124m\"\u001b[39m, \u001b[38;5;124mf\u001b[39m\u001b[38;5;124m\"\u001b[39m\u001b[38;5;132;01m{\u001b[39;00mgamename\u001b[38;5;132;01m}\u001b[39;00m\u001b[38;5;124m\"\u001b[39m)):\n",
      "\u001b[1;31mFileNotFoundError\u001b[0m: Core file not found: d:\\projects\\sdlarch\\sdlarch_rl\\./cores/ps2/pcsx2_libretro.so. Please ensure the path is correct."
     ]
    }
   ],
   "source": [
    "import ctypes\n",
    "import numpy as np\n",
    "import time\n",
    "import cv2\n",
    "import gc\n",
    "import os\n",
    "import zlib\n",
    "from sdlarch_rl import make\n",
    "import pygame\n",
    "from IPython.display import Audio\n",
    "\n",
    "env = make(\"GranTurismo3-Ps2\")\n",
    "\n",
    "obs, info = env.reset()\n",
    "\n",
    "count = 0\n",
    "global initial_state\n",
    "initial_state = None\n",
    "\n",
    "ar = env.unwrapped.em.get_audio_rate()\n",
    "print(\"Frame rate:\", env.unwrapped.em.get_frame_rate())\n",
    "print(\"Audio rate:\", ar)\n",
    "\n",
    "while True:\n",
    "    action = np.zeros(16, dtype=np.uint8)\n",
    "\n",
    "    max_count = 3000\n",
    "    # press Y button\n",
    "\n",
    "    # if count == 300:\n",
    "    #     if not initial_state:\n",
    "    #         print(\"Before get_state\")\n",
    "    #         initial_state = env.unwrapped.em.get_state()\n",
    "    #         print(\"Before set_state\")\n",
    "    #         # time.sleep(2)\n",
    "    #         env.unwrapped.em.run()\n",
    "    #         env.unwrapped.em.set_state(initial_state)\n",
    "    #         print(\"After set_state\")\n",
    "    \n",
    "    # if count % 100 == 0 and count > 0 and count < max_count:\n",
    "    #     # press start\n",
    "    #     if count < 1000:\n",
    "    #         # action[3] = 1\n",
    "    #         pass\n",
    "    #     action[0] = 1\n",
    "    # elif count > max_count:\n",
    "    #     action = np.zeros(16, dtype=np.uint8)\n",
    "\n",
    "    #     action[0] = 1\n",
    "\n",
    "    #     if not initial_state:\n",
    "    #         initial_state = env.unwrapped.em.get_state()\n",
    "            \n",
    "    #     if count > 4000:\n",
    "    #         env.unwrapped.em.run()\n",
    "    #         env.unwrapped.em.set_state(initial_state)\n",
    "    #         print(\"After set_state\")\n",
    "    #         count = 3001\n",
    "\n",
    "    img, rew, done, _, info = env.step(action)\n",
    "\n",
    "    data = env.unwrapped.em.get_audio()\n",
    "\n",
    "    Audio(data, rate=ar)\n",
    "    time.sleep(1/60)\n",
    "\n",
    "    # print(env.get_memory(0x01FA1E7C))\n",
    "    \n",
    "    img = cv2.cvtColor(img, cv2.COLOR_RGB2BGR)\n",
    "    cv2.imshow(\"env\", img)\n",
    "    cv2.waitKey(1)\n",
    "\n",
    "    count += 1\n",
    "\n",
    "    # break\n",
    "\n",
    "    if count % 1000 == 0:\n",
    "        # env.reset()\n",
    "        pass\n",
    "\n",
    "    "
   ]
  }
 ],
 "metadata": {
  "kernelspec": {
   "display_name": "Python 3 (ipykernel)",
   "language": "python",
   "name": "python3"
  },
  "language_info": {
   "codemirror_mode": {
    "name": "ipython",
    "version": 3
   },
   "file_extension": ".py",
   "mimetype": "text/x-python",
   "name": "python",
   "nbconvert_exporter": "python",
   "pygments_lexer": "ipython3",
   "version": "3.11.0"
  }
 },
 "nbformat": 4,
 "nbformat_minor": 5
}
